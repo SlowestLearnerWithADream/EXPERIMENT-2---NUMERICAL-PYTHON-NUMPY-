{
 "cells": [
  {
   "cell_type": "markdown",
   "id": "09767753-1e85-41b2-8afd-7d3987fafeea",
   "metadata": {},
   "source": [
    "# PROBLEM 1"
   ]
  },
  {
   "attachments": {
    "06d55205-f175-4abd-9220-ff2fd2e60c79.png": {
     "image/png": "[encoded data removed]"
    }
   },
   "cell_type": "markdown",
   "id": "67f953a9-62f0-4ba0-95e9-dcec730c2a67",
   "metadata": {},
   "source": [
    "### NORMALIZATION PROBLEM\n",
    "- Normalization is one of the most basic preprocessing techniques in data analytics. This involves centering and scaling process. Centering means subtracting the data from the mean and scaling means dividing with its standard deviation. Mathematically, normalization can be expressed as: \n",
    "\n",
    "  ![Screenshot 2024-09-05 at 2.30.30 PM.png](attachment:06d55205-f175-4abd-9220-ff2fd2e60c79.png)\n",
    "  \n",
    "-  In Python, element-wise mean and element-wise standard deviation can be obtained by using .mean() and .std() calls.\n",
    "-  In this problem, create a random 5 x 5 ndarray and store it to variable X. Normalize X. Save your normalized ndarray as X_normalized.npy"
   ]
  },
  {
   "cell_type": "code",
   "execution_count": 57,
   "id": "4e2ac718-95de-45e2-917f-5c6551229346",
   "metadata": {},
   "outputs": [],
   "source": [
    "#Import numpy library as the code will perform complex operations and large data arrays.\n",
    "\n",
    "import numpy as np"
   ]
  },
  {
   "cell_type": "code",
   "execution_count": 59,
   "id": "22a6b29c-754d-4744-bdb2-75acb2e9e90f",
   "metadata": {},
   "outputs": [
    {
     "data": {
      "text/plain": [
       "array([0.01427121, 0.92137721, 0.71521375, 0.97636992, 0.70699473,\n",
       "       0.29497705, 0.51468995, 0.18712501, 0.60207627, 0.28849855,\n",
       "       0.97487185, 0.40947853, 0.56031094, 0.54386344, 0.32813477,\n",
       "       0.92769175, 0.88209984, 0.62823752, 0.80115631, 0.58800395,\n",
       "       0.3515081 , 0.48421928, 0.41453991, 0.18055794, 0.75879496])"
      ]
     },
     "execution_count": 59,
     "metadata": {},
     "output_type": "execute_result"
    }
   ],
   "source": [
    "# This part creates and stores random entries in array X that vary every time this part of the program runs.\n",
    "\n",
    "# NOTE: ALWAYS RUN the following cells if you re-run this code as the values are being RANDOMIZED EVERY TIME THIS PART RUNS.\n",
    "\n",
    "# WHEN RUNNING THIS CELL: the following operations do NOT PERFORM AUTOMATICALLY.\n",
    "\n",
    "X = np.random.random(25)\n",
    "X"
   ]
  },
  {
   "cell_type": "code",
   "execution_count": 61,
   "id": "e0b6d059-1378-47f8-ac80-c3ba8c3887d0",
   "metadata": {},
   "outputs": [
    {
     "data": {
      "text/plain": [
       "array([[0.01427121, 0.92137721, 0.71521375, 0.97636992, 0.70699473],\n",
       "       [0.29497705, 0.51468995, 0.18712501, 0.60207627, 0.28849855],\n",
       "       [0.97487185, 0.40947853, 0.56031094, 0.54386344, 0.32813477],\n",
       "       [0.92769175, 0.88209984, 0.62823752, 0.80115631, 0.58800395],\n",
       "       [0.3515081 , 0.48421928, 0.41453991, 0.18055794, 0.75879496]])"
      ]
     },
     "execution_count": 61,
     "metadata": {},
     "output_type": "execute_result"
    }
   ],
   "source": [
    "#Reshapes the 1-dimensional array into a 5 by 5 2-dimensional array or called a matrix.\n",
    "\n",
    "X = X.reshape(5, 5)\n",
    "X"
   ]
  },
  {
   "cell_type": "code",
   "execution_count": 63,
   "id": "9b2d6267-1978-4148-9e68-05c12d4d838b",
   "metadata": {},
   "outputs": [
    {
     "data": {
      "text/plain": [
       "0.5622025098661712"
      ]
     },
     "execution_count": 63,
     "metadata": {},
     "output_type": "execute_result"
    }
   ],
   "source": [
    "#Computes the element-wise(each element) mean:\n",
    "\n",
    "mean = X.mean()\n",
    "mean"
   ]
  },
  {
   "cell_type": "code",
   "execution_count": 65,
   "id": "850da950-b0cb-4b98-afa7-6af5723a9a75",
   "metadata": {},
   "outputs": [
    {
     "data": {
      "text/plain": [
       "0.26377034818266243"
      ]
     },
     "execution_count": 65,
     "metadata": {},
     "output_type": "execute_result"
    }
   ],
   "source": [
    "#Computes the element-wise(each element) standard deviation:\n",
    "\n",
    "sd = X.std()\n",
    "sd"
   ]
  },
  {
   "cell_type": "code",
   "execution_count": 67,
   "id": "80326c2f-4c55-4fb4-9620-b53545b8c81f",
   "metadata": {},
   "outputs": [],
   "source": [
    "#Normalization process that uses scaling and centering processes.\n",
    "\n",
    "normalized = (X - mean)/ sd"
   ]
  },
  {
   "cell_type": "markdown",
   "id": "23a0e4eb-e038-4edf-8d99-e6581611d806",
   "metadata": {},
   "source": [
    "##### Check if the NORMALIZED DATA is correctly stored in its designated variable:"
   ]
  },
  {
   "cell_type": "code",
   "execution_count": 73,
   "id": "49f1cf42-9726-4718-b19a-e20d38e697d1",
   "metadata": {},
   "outputs": [
    {
     "data": {
      "text/plain": [
       "array([[-2.07730438,  1.36169476,  0.58009264,  1.57018185,  0.5489329 ],\n",
       "       [-1.01309895, -0.1801285 , -1.42198508,  0.15116846, -1.03766008],\n",
       "       [ 1.56450237, -0.57900358, -0.00717128, -0.06952665, -0.88739217],\n",
       "       [ 1.38563429,  1.21278732,  0.25035039,  0.90591608,  0.09781784],\n",
       "       [-0.79877974, -0.29564819, -0.55981501, -1.44688199,  0.74531671]])"
      ]
     },
     "execution_count": 73,
     "metadata": {},
     "output_type": "execute_result"
    }
   ],
   "source": [
    "normalized"
   ]
  },
  {
   "cell_type": "code",
   "execution_count": 75,
   "id": "5d77a670-81d2-4c69-88e2-5601047cfbb0",
   "metadata": {},
   "outputs": [],
   "source": [
    "#Normalized array is saved to \"X_normalized.npy\"\n",
    "\n",
    "np.save( \"X_normalized.npy\", normalized )"
   ]
  },
  {
   "cell_type": "code",
   "execution_count": 77,
   "id": "e45007a5-9c1a-4765-b2b0-11f03d5a8ddc",
   "metadata": {},
   "outputs": [
    {
     "data": {
      "text/plain": [
       "array([[-2.07730438,  1.36169476,  0.58009264,  1.57018185,  0.5489329 ],\n",
       "       [-1.01309895, -0.1801285 , -1.42198508,  0.15116846, -1.03766008],\n",
       "       [ 1.56450237, -0.57900358, -0.00717128, -0.06952665, -0.88739217],\n",
       "       [ 1.38563429,  1.21278732,  0.25035039,  0.90591608,  0.09781784],\n",
       "       [-0.79877974, -0.29564819, -0.55981501, -1.44688199,  0.74531671]])"
      ]
     },
     "execution_count": 77,
     "metadata": {},
     "output_type": "execute_result"
    }
   ],
   "source": [
    "#loads the normalized array\n",
    "data = np.load(\"X_normalized.npy\")\n",
    "data"
   ]
  },
  {
   "cell_type": "markdown",
   "id": "12f4b506-1d42-4d5b-9c7f-8bac517e1559",
   "metadata": {},
   "source": [
    "# PROBLEM 2"
   ]
  },
  {
   "attachments": {
    "8c5f825f-14d5-4072-b72e-dc8d417003f7.png": {
     "image/png": "[encoded data removed]"
    }
   },
   "cell_type": "markdown",
   "id": "35bf1593-03d2-4f1a-abdc-41d2430a8f04",
   "metadata": {},
   "source": [
    "### DIVISIBLE BY 3 PROBLEM:\n",
    "- Create the following 10 x 10 ndarray.\n",
    "  \n",
    "![Screenshot 2024-09-10 095326.png](attachment:8c5f825f-14d5-4072-b72e-dc8d417003f7.png)\n",
    "\n",
    "which are the squares of the first 100 positive integers. \n",
    "\n",
    "From this ndarray, determine all the elements that are divisible by 3. Save the result as div_by_3.npy \n"
   ]
  },
  {
   "cell_type": "code",
   "execution_count": 84,
   "id": "2cf58aa5-698d-4a9d-ab48-772f06770926",
   "metadata": {},
   "outputs": [],
   "source": [
    "# Import numpy library as the code will perform complex operations and large data arrays.\n",
    "import numpy as np"
   ]
  },
  {
   "cell_type": "code",
   "execution_count": 86,
   "id": "96e782f1-5450-4680-8e9d-66966fcbcd0a",
   "metadata": {},
   "outputs": [
    {
     "data": {
      "text/plain": [
       "array([  1,   2,   3,   4,   5,   6,   7,   8,   9,  10,  11,  12,  13,\n",
       "        14,  15,  16,  17,  18,  19,  20,  21,  22,  23,  24,  25,  26,\n",
       "        27,  28,  29,  30,  31,  32,  33,  34,  35,  36,  37,  38,  39,\n",
       "        40,  41,  42,  43,  44,  45,  46,  47,  48,  49,  50,  51,  52,\n",
       "        53,  54,  55,  56,  57,  58,  59,  60,  61,  62,  63,  64,  65,\n",
       "        66,  67,  68,  69,  70,  71,  72,  73,  74,  75,  76,  77,  78,\n",
       "        79,  80,  81,  82,  83,  84,  85,  86,  87,  88,  89,  90,  91,\n",
       "        92,  93,  94,  95,  96,  97,  98,  99, 100])"
      ]
     },
     "execution_count": 86,
     "metadata": {},
     "output_type": "execute_result"
    }
   ],
   "source": [
    "# Store a range of integers from 1 to 100 with 101 as the stop value for the given range.\n",
    "X = np.arange(1,101)\n",
    "X"
   ]
  },
  {
   "cell_type": "code",
   "execution_count": 88,
   "id": "5d8a95d9-887f-45fa-aa6e-742195c85116",
   "metadata": {},
   "outputs": [
    {
     "data": {
      "text/plain": [
       "array([    1,     4,     9,    16,    25,    36,    49,    64,    81,\n",
       "         100,   121,   144,   169,   196,   225,   256,   289,   324,\n",
       "         361,   400,   441,   484,   529,   576,   625,   676,   729,\n",
       "         784,   841,   900,   961,  1024,  1089,  1156,  1225,  1296,\n",
       "        1369,  1444,  1521,  1600,  1681,  1764,  1849,  1936,  2025,\n",
       "        2116,  2209,  2304,  2401,  2500,  2601,  2704,  2809,  2916,\n",
       "        3025,  3136,  3249,  3364,  3481,  3600,  3721,  3844,  3969,\n",
       "        4096,  4225,  4356,  4489,  4624,  4761,  4900,  5041,  5184,\n",
       "        5329,  5476,  5625,  5776,  5929,  6084,  6241,  6400,  6561,\n",
       "        6724,  6889,  7056,  7225,  7396,  7569,  7744,  7921,  8100,\n",
       "        8281,  8464,  8649,  8836,  9025,  9216,  9409,  9604,  9801,\n",
       "       10000])"
      ]
     },
     "execution_count": 88,
     "metadata": {},
     "output_type": "execute_result"
    }
   ],
   "source": [
    "# Element-wise(per element) operation that squares the objects inside the X array.\n",
    "X = X**2\n",
    "X"
   ]
  },
  {
   "cell_type": "code",
   "execution_count": 90,
   "id": "0cfd6335-24b4-483d-bf32-94c22e0490e5",
   "metadata": {},
   "outputs": [
    {
     "data": {
      "text/plain": [
       "array([[    1,     4,     9,    16,    25,    36,    49,    64,    81,\n",
       "          100],\n",
       "       [  121,   144,   169,   196,   225,   256,   289,   324,   361,\n",
       "          400],\n",
       "       [  441,   484,   529,   576,   625,   676,   729,   784,   841,\n",
       "          900],\n",
       "       [  961,  1024,  1089,  1156,  1225,  1296,  1369,  1444,  1521,\n",
       "         1600],\n",
       "       [ 1681,  1764,  1849,  1936,  2025,  2116,  2209,  2304,  2401,\n",
       "         2500],\n",
       "       [ 2601,  2704,  2809,  2916,  3025,  3136,  3249,  3364,  3481,\n",
       "         3600],\n",
       "       [ 3721,  3844,  3969,  4096,  4225,  4356,  4489,  4624,  4761,\n",
       "         4900],\n",
       "       [ 5041,  5184,  5329,  5476,  5625,  5776,  5929,  6084,  6241,\n",
       "         6400],\n",
       "       [ 6561,  6724,  6889,  7056,  7225,  7396,  7569,  7744,  7921,\n",
       "         8100],\n",
       "       [ 8281,  8464,  8649,  8836,  9025,  9216,  9409,  9604,  9801,\n",
       "        10000]])"
      ]
     },
     "execution_count": 90,
     "metadata": {},
     "output_type": "execute_result"
    }
   ],
   "source": [
    "# Commands the X array to take the shape of a 10 by 10(matrix) 2-dimensional array.\n",
    "\n",
    "# Out of place operation = These functions create and return a new array without modifying the original array\n",
    "\n",
    "# Utilized this instead of the \" .resize() \" function to trap or catch errors when the size of an array does not fit into a specific shape.\n",
    "\n",
    "# \" .resize() \" = It modifies the existing data rather than creating a copy or a new instance of the data structure.\n",
    "\n",
    "X = X.reshape(10,10)\n",
    "X\n"
   ]
  },
  {
   "cell_type": "code",
   "execution_count": 92,
   "id": "c54e6bac-dad6-4875-bca9-6f1af406e78e",
   "metadata": {},
   "outputs": [
    {
     "data": {
      "text/plain": [
       "array([   9,   36,   81,  144,  225,  324,  441,  576,  729,  900, 1089,\n",
       "       1296, 1521, 1764, 2025, 2304, 2601, 2916, 3249, 3600, 3969, 4356,\n",
       "       4761, 5184, 5625, 6084, 6561, 7056, 7569, 8100, 8649, 9216, 9801])"
      ]
     },
     "execution_count": 92,
     "metadata": {},
     "output_type": "execute_result"
    }
   ],
   "source": [
    "# This is an Indexing where it only stores objects that satisfy the condition / boolean statement.\n",
    "\n",
    "# In this case, Modulo is used to determine if an entry has a remainder when divided by zero to determine the divisibility.\n",
    "\n",
    "# If the modulo operation results to 0, then it imposes that a specific element is divisible.\n",
    "\n",
    "\n",
    "div_3 = X[X%3 == 0]\n",
    "div_3"
   ]
  },
  {
   "cell_type": "markdown",
   "id": "ec01e9d2-28b2-49d6-8a35-7e8c4db3c23f",
   "metadata": {},
   "source": [
    "##### For visualization, check if the arrays are correct and stored properly"
   ]
  },
  {
   "cell_type": "code",
   "execution_count": 96,
   "id": "f6483232-9170-4fca-b607-deb5f5226a8d",
   "metadata": {},
   "outputs": [
    {
     "name": "stdout",
     "output_type": "stream",
     "text": [
      "10x10 ndarray:\n",
      "\n",
      " [[    1     4     9    16    25    36    49    64    81   100]\n",
      " [  121   144   169   196   225   256   289   324   361   400]\n",
      " [  441   484   529   576   625   676   729   784   841   900]\n",
      " [  961  1024  1089  1156  1225  1296  1369  1444  1521  1600]\n",
      " [ 1681  1764  1849  1936  2025  2116  2209  2304  2401  2500]\n",
      " [ 2601  2704  2809  2916  3025  3136  3249  3364  3481  3600]\n",
      " [ 3721  3844  3969  4096  4225  4356  4489  4624  4761  4900]\n",
      " [ 5041  5184  5329  5476  5625  5776  5929  6084  6241  6400]\n",
      " [ 6561  6724  6889  7056  7225  7396  7569  7744  7921  8100]\n",
      " [ 8281  8464  8649  8836  9025  9216  9409  9604  9801 10000]]\n",
      "\n",
      "\n",
      "Elements divisible by 3:\n",
      "\n",
      " [   9   36   81  144  225  324  441  576  729  900 1089 1296 1521 1764\n",
      " 2025 2304 2601 2916 3249 3600 3969 4356 4761 5184 5625 6084 6561 7056\n",
      " 7569 8100 8649 9216 9801]\n"
     ]
    }
   ],
   "source": [
    "# Prints the original 10x10 2D-array\n",
    "\n",
    "print(\"10x10 ndarray:\\n\\n\", X, end = \"\\n\\n\\n\")\n",
    "\n",
    "\n",
    "# Prints the entries that are divisible by 3\n",
    "\n",
    "print(\"Elements divisible by 3:\\n\\n\", div_3)"
   ]
  },
  {
   "cell_type": "code",
   "execution_count": 98,
   "id": "4d6f05b6-8956-437b-bbe8-2b1ca72a3e30",
   "metadata": {},
   "outputs": [],
   "source": [
    "# Saves the array that contains elements divisible by 3 to \"div_by_3.npy\"\n",
    "\n",
    "\n",
    "np.save( \"div_by_3.npy\", div_3 )"
   ]
  },
  {
   "cell_type": "code",
   "execution_count": 100,
   "id": "1c114e44-b2c6-4380-b16b-74123b99c478",
   "metadata": {},
   "outputs": [
    {
     "data": {
      "text/plain": [
       "array([   9,   36,   81,  144,  225,  324,  441,  576,  729,  900, 1089,\n",
       "       1296, 1521, 1764, 2025, 2304, 2601, 2916, 3249, 3600, 3969, 4356,\n",
       "       4761, 5184, 5625, 6084, 6561, 7056, 7569, 8100, 8649, 9216, 9801])"
      ]
     },
     "execution_count": 100,
     "metadata": {},
     "output_type": "execute_result"
    }
   ],
   "source": [
    "#checks if the saved arrray is saved and loadable\n",
    "\n",
    "\n",
    "div3 = np.load(\"div_by_3.npy\")\n",
    "div3"
   ]
  },
  {
   "cell_type": "code",
   "execution_count": null,
   "id": "161f03dd-5531-43f8-a193-2ff65eddd7d4",
   "metadata": {},
   "outputs": [],
   "source": []
  }
 ],
 "metadata": {
  "kernelspec": {
   "display_name": "Python 3 (ipykernel)",
   "language": "python",
   "name": "python3"
  },
  "language_info": {
   "codemirror_mode": {
    "name": "ipython",
    "version": 3
   },
   "file_extension": ".py",
   "mimetype": "text/x-python",
   "name": "python",
   "nbconvert_exporter": "python",
   "pygments_lexer": "ipython3",
   "version": "3.12.4"
  }
 },
 "nbformat": 4,
 "nbformat_minor": 5
}
