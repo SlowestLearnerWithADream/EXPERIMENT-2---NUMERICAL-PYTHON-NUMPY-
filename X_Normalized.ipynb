{
 "cells": [
  {
   "cell_type": "markdown",
   "id": "67f953a9-62f0-4ba0-95e9-dcec730c2a67",
   "metadata": {},
   "source": [
    "# NORMALIZATION PROBLEM\n",
    "- Normalization is one of the most basic preprocessing techniques in data analytics. This involves centering and scaling process. Centering means subtracting the data from the mean and scaling means dividing with its standard deviation. Mathematically, normalization can be expressed as: 𝑍 = ( 𝑋 − 𝑥̅ ) / 𝜎.\n",
    "-  In Python, element-wise mean and element-wise standard deviation can be obtained by using .mean() and .std() calls. In this problem, create a random 5 x 5 ndarray and store it to variable X. Normalize X. Save your normalized ndarray as X_normalized.npy"
   ]
  },
  {
   "cell_type": "code",
   "execution_count": 89,
   "id": "4e2ac718-95de-45e2-917f-5c6551229346",
   "metadata": {},
   "outputs": [],
   "source": [
    "#import numpy library\n",
    "import numpy as np"
   ]
  },
  {
   "cell_type": "code",
   "execution_count": 91,
   "id": "22a6b29c-754d-4744-bdb2-75acb2e9e90f",
   "metadata": {},
   "outputs": [
    {
     "data": {
      "text/plain": [
       "array([0.58798523, 0.2741849 , 0.2499425 , 0.65486895, 0.7149238 ,\n",
       "       0.68591247, 0.1020913 , 0.98164708, 0.11681756, 0.98351311,\n",
       "       0.33718338, 0.5410571 , 0.60669832, 0.2257825 , 0.72669591,\n",
       "       0.50825912, 0.89763404, 0.04654219, 0.5503276 , 0.99625054,\n",
       "       0.27093183, 0.54613335, 0.33881693, 0.39917331, 0.79994593])"
      ]
     },
     "execution_count": 91,
     "metadata": {},
     "output_type": "execute_result"
    }
   ],
   "source": [
    "#creates and stores in array X values ranging frorm 1 to 25\n",
    "X = np.random.random(25)\n",
    "X"
   ]
  },
  {
   "cell_type": "code",
   "execution_count": 93,
   "id": "e0b6d059-1378-47f8-ac80-c3ba8c3887d0",
   "metadata": {},
   "outputs": [
    {
     "data": {
      "text/plain": [
       "array([[0.58798523, 0.2741849 , 0.2499425 , 0.65486895, 0.7149238 ],\n",
       "       [0.68591247, 0.1020913 , 0.98164708, 0.11681756, 0.98351311],\n",
       "       [0.33718338, 0.5410571 , 0.60669832, 0.2257825 , 0.72669591],\n",
       "       [0.50825912, 0.89763404, 0.04654219, 0.5503276 , 0.99625054],\n",
       "       [0.27093183, 0.54613335, 0.33881693, 0.39917331, 0.79994593]])"
      ]
     },
     "execution_count": 93,
     "metadata": {},
     "output_type": "execute_result"
    }
   ],
   "source": [
    "#shapes the 1d array into a 5 by 5 2d array\n",
    "X = X.reshape(5, 5)\n",
    "X"
   ]
  },
  {
   "cell_type": "code",
   "execution_count": 95,
   "id": "9b2d6267-1978-4148-9e68-05c12d4d838b",
   "metadata": {},
   "outputs": [
    {
     "data": {
      "text/plain": [
       "0.5257327586326147"
      ]
     },
     "execution_count": 95,
     "metadata": {},
     "output_type": "execute_result"
    }
   ],
   "source": [
    "#computes the element-wise mean\n",
    "mean = X.mean()\n",
    "mean"
   ]
  },
  {
   "cell_type": "code",
   "execution_count": 97,
   "id": "850da950-b0cb-4b98-afa7-6af5723a9a75",
   "metadata": {},
   "outputs": [
    {
     "data": {
      "text/plain": [
       "0.2785576838837114"
      ]
     },
     "execution_count": 97,
     "metadata": {},
     "output_type": "execute_result"
    }
   ],
   "source": [
    "#computes the element-wise standard deviation\n",
    "sd = X.std()\n",
    "sd"
   ]
  },
  {
   "cell_type": "code",
   "execution_count": 99,
   "id": "80326c2f-4c55-4fb4-9620-b53545b8c81f",
   "metadata": {},
   "outputs": [],
   "source": [
    "#Normalization formula\n",
    "normalized = (X - mean)/ sd"
   ]
  },
  {
   "cell_type": "code",
   "execution_count": 101,
   "id": "49f1cf42-9726-4718-b19a-e20d38e697d1",
   "metadata": {},
   "outputs": [
    {
     "data": {
      "text/plain": [
       "array([[ 0.22348144, -0.90303686, -0.99006518,  0.46358868,  0.67918085],\n",
       "       [ 0.57503245, -1.52083926,  1.63669627, -1.46797313,  1.64339517],\n",
       "       [-0.67687731,  0.05501318,  0.29065996, -1.07679766,  0.72144179],\n",
       "       [-0.06272896,  1.33509611, -1.72025613,  0.08829353,  1.68912153],\n",
       "       [-0.91471513,  0.07323652, -0.67101299, -0.4543384 ,  0.98440353]])"
      ]
     },
     "execution_count": 101,
     "metadata": {},
     "output_type": "execute_result"
    }
   ],
   "source": [
    "normalized"
   ]
  },
  {
   "cell_type": "code",
   "execution_count": 103,
   "id": "5d77a670-81d2-4c69-88e2-5601047cfbb0",
   "metadata": {},
   "outputs": [],
   "source": [
    "#Normalized array is saved to \"X_normalized\"\n",
    "np.save( \"X_normalized.npy\", normalized )"
   ]
  },
  {
   "cell_type": "code",
   "execution_count": 105,
   "id": "e45007a5-9c1a-4765-b2b0-11f03d5a8ddc",
   "metadata": {},
   "outputs": [
    {
     "data": {
      "text/plain": [
       "array([[ 0.22348144, -0.90303686, -0.99006518,  0.46358868,  0.67918085],\n",
       "       [ 0.57503245, -1.52083926,  1.63669627, -1.46797313,  1.64339517],\n",
       "       [-0.67687731,  0.05501318,  0.29065996, -1.07679766,  0.72144179],\n",
       "       [-0.06272896,  1.33509611, -1.72025613,  0.08829353,  1.68912153],\n",
       "       [-0.91471513,  0.07323652, -0.67101299, -0.4543384 ,  0.98440353]])"
      ]
     },
     "execution_count": 105,
     "metadata": {},
     "output_type": "execute_result"
    }
   ],
   "source": [
    "#loads the normalized array\n",
    "data = np.load(\"X_normalized.npy\")\n",
    "data"
   ]
  }
 ],
 "metadata": {
  "kernelspec": {
   "display_name": "Python 3 (ipykernel)",
   "language": "python",
   "name": "python3"
  },
  "language_info": {
   "codemirror_mode": {
    "name": "ipython",
    "version": 3
   },
   "file_extension": ".py",
   "mimetype": "text/x-python",
   "name": "python",
   "nbconvert_exporter": "python",
   "pygments_lexer": "ipython3",
   "version": "3.12.4"
  }
 },
 "nbformat": 4,
 "nbformat_minor": 5
}
