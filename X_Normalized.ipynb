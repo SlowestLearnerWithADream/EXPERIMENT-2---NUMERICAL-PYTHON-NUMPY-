{
 "cells": [
  {
   "attachments": {
    "06d55205-f175-4abd-9220-ff2fd2e60c79.png": {
     "image/png": "[encoded data removed]"
    }
   },
   "cell_type": "markdown",
   "id": "67f953a9-62f0-4ba0-95e9-dcec730c2a67",
   "metadata": {},
   "source": [
    "# NORMALIZATION PROBLEM\n",
    "- Normalization is one of the most basic preprocessing techniques in data analytics. This involves centering and scaling process. Centering means subtracting the data from the mean and scaling means dividing with its standard deviation. Mathematically, normalization can be expressed as: \n",
    "\n",
    "  ![Screenshot 2024-09-05 at 2.30.30 PM.png](attachment:06d55205-f175-4abd-9220-ff2fd2e60c79.png)\n",
    "  \n",
    "-  In Python, element-wise mean and element-wise standard deviation can be obtained by using .mean() and .std() calls.\n",
    "-  In this problem, create a random 5 x 5 ndarray and store it to variable X. Normalize X. Save your normalized ndarray as X_normalized.npy"
   ]
  },
  {
   "cell_type": "code",
   "execution_count": 23,
   "id": "4e2ac718-95de-45e2-917f-5c6551229346",
   "metadata": {},
   "outputs": [],
   "source": [
    "#Import numpy library as the code will perform complex operations and large data arrays.\n",
    "\n",
    "import numpy as np"
   ]
  },
  {
   "cell_type": "code",
   "execution_count": 25,
   "id": "22a6b29c-754d-4744-bdb2-75acb2e9e90f",
   "metadata": {},
   "outputs": [
    {
     "data": {
      "text/plain": [
       "array([0.50938883, 0.23266128, 0.94671766, 0.87854815, 0.30246496,\n",
       "       0.8147745 , 0.95557281, 0.54258484, 0.59915467, 0.46276505,\n",
       "       0.097812  , 0.89155913, 0.93959644, 0.04850476, 0.48711509,\n",
       "       0.25068708, 0.52262753, 0.01608187, 0.02867169, 0.95628054,\n",
       "       0.04756973, 0.11241497, 0.92234067, 0.47305911, 0.16879067])"
      ]
     },
     "execution_count": 25,
     "metadata": {},
     "output_type": "execute_result"
    }
   ],
   "source": [
    "# This part creates and stores random entries in array X that vary every time this part of the program runs.\n",
    "\n",
    "# NOTE: ALWAYS RUN the following cells if you re-run this code as the values are being RANDOMIZED EVERY TIME THIS PART RUNS.\n",
    "\n",
    "# WHEN RUNNING THIS CELL: the following operations do NOT PERFORM AUTOMATICALLY.\n",
    "\n",
    "X = np.random.random(25)\n",
    "X"
   ]
  },
  {
   "cell_type": "code",
   "execution_count": 27,
   "id": "e0b6d059-1378-47f8-ac80-c3ba8c3887d0",
   "metadata": {},
   "outputs": [
    {
     "data": {
      "text/plain": [
       "array([[0.50938883, 0.23266128, 0.94671766, 0.87854815, 0.30246496],\n",
       "       [0.8147745 , 0.95557281, 0.54258484, 0.59915467, 0.46276505],\n",
       "       [0.097812  , 0.89155913, 0.93959644, 0.04850476, 0.48711509],\n",
       "       [0.25068708, 0.52262753, 0.01608187, 0.02867169, 0.95628054],\n",
       "       [0.04756973, 0.11241497, 0.92234067, 0.47305911, 0.16879067]])"
      ]
     },
     "execution_count": 27,
     "metadata": {},
     "output_type": "execute_result"
    }
   ],
   "source": [
    "#Reshapes the 1-dimensional array into a 5 by 5 2-dimensional array or called a matrix.\n",
    "\n",
    "X = X.reshape(5, 5)\n",
    "X"
   ]
  },
  {
   "cell_type": "code",
   "execution_count": 29,
   "id": "9b2d6267-1978-4148-9e68-05c12d4d838b",
   "metadata": {},
   "outputs": [
    {
     "data": {
      "text/plain": [
       "0.4883097611520021"
      ]
     },
     "execution_count": 29,
     "metadata": {},
     "output_type": "execute_result"
    }
   ],
   "source": [
    "#Computes the element-wise(each element) mean:\n",
    "\n",
    "mean = X.mean()\n",
    "mean"
   ]
  },
  {
   "cell_type": "code",
   "execution_count": 31,
   "id": "850da950-b0cb-4b98-afa7-6af5723a9a75",
   "metadata": {},
   "outputs": [
    {
     "data": {
      "text/plain": [
       "0.33781126733111405"
      ]
     },
     "execution_count": 31,
     "metadata": {},
     "output_type": "execute_result"
    }
   ],
   "source": [
    "#Computes the element-wise(each element) standard deviation:\n",
    "\n",
    "sd = X.std()\n",
    "sd"
   ]
  },
  {
   "cell_type": "code",
   "execution_count": 33,
   "id": "80326c2f-4c55-4fb4-9620-b53545b8c81f",
   "metadata": {},
   "outputs": [],
   "source": [
    "#Normalization process that uses scaling and centering processes.\n",
    "\n",
    "normalized = (X - mean)/ sd"
   ]
  },
  {
   "cell_type": "markdown",
   "id": "23a0e4eb-e038-4edf-8d99-e6581611d806",
   "metadata": {},
   "source": [
    "### Check if the NORMALIZED DATA is correctly stored in its designated variable:"
   ]
  },
  {
   "cell_type": "code",
   "execution_count": 36,
   "id": "49f1cf42-9726-4718-b19a-e20d38e697d1",
   "metadata": {},
   "outputs": [
    {
     "data": {
      "text/plain": [
       "array([[ 0.06239895, -0.75677904,  1.3569941 ,  1.1551965 , -0.55014389],\n",
       "       [ 0.96641162,  1.38320741,  0.16066688,  0.32812673, -0.0756183 ],\n",
       "       [-1.15596428,  1.19371201,  1.33591362, -1.3019252 , -0.00353649],\n",
       "       [-0.70341846,  0.1015886 , -1.39790449, -1.3606357 ,  1.38530247],\n",
       "       [-1.3046931 , -1.11273609,  1.28483255, -0.04514549, -0.94585091]])"
      ]
     },
     "execution_count": 36,
     "metadata": {},
     "output_type": "execute_result"
    }
   ],
   "source": [
    "normalized"
   ]
  },
  {
   "cell_type": "code",
   "execution_count": 38,
   "id": "5d77a670-81d2-4c69-88e2-5601047cfbb0",
   "metadata": {},
   "outputs": [],
   "source": [
    "#Normalized array is saved to \"X_normalized.npy\"\n",
    "\n",
    "np.save( \"X_normalized.npy\", normalized )"
   ]
  },
  {
   "cell_type": "code",
   "execution_count": 40,
   "id": "e45007a5-9c1a-4765-b2b0-11f03d5a8ddc",
   "metadata": {},
   "outputs": [
    {
     "data": {
      "text/plain": [
       "array([[ 0.06239895, -0.75677904,  1.3569941 ,  1.1551965 , -0.55014389],\n",
       "       [ 0.96641162,  1.38320741,  0.16066688,  0.32812673, -0.0756183 ],\n",
       "       [-1.15596428,  1.19371201,  1.33591362, -1.3019252 , -0.00353649],\n",
       "       [-0.70341846,  0.1015886 , -1.39790449, -1.3606357 ,  1.38530247],\n",
       "       [-1.3046931 , -1.11273609,  1.28483255, -0.04514549, -0.94585091]])"
      ]
     },
     "execution_count": 40,
     "metadata": {},
     "output_type": "execute_result"
    }
   ],
   "source": [
    "#loads the normalized array\n",
    "data = np.load(\"X_normalized.npy\")\n",
    "data"
   ]
  }
 ],
 "metadata": {
  "kernelspec": {
   "display_name": "Python 3 (ipykernel)",
   "language": "python",
   "name": "python3"
  },
  "language_info": {
   "codemirror_mode": {
    "name": "ipython",
    "version": 3
   },
   "file_extension": ".py",
   "mimetype": "text/x-python",
   "name": "python",
   "nbconvert_exporter": "python",
   "pygments_lexer": "ipython3",
   "version": "3.12.4"
  }
 },
 "nbformat": 4,
 "nbformat_minor": 5
}
