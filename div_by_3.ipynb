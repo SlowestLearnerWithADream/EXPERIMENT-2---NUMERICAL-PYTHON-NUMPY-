{
 "cells": [
  {
   "cell_type": "markdown",
   "id": "d762b427-7fcf-444f-ab12-b08721a411af",
   "metadata": {},
   "source": [
    "# DIVISIBLE BY 3 PROBLEM:\n",
    "- Create the following 10 x 10 ndarray.\n",
    "  \n",
    "<img width=\"300\" alt=\"Screenshot 2024-09-05 at 2 24 30 PM\" src=\"https://github.com/user-attachments/assets/444291a6-3360-4737-95a4-6bdb37e5c5db\">\n",
    "\n",
    "which are the squares of the first 100 positive integers. \n",
    "\n",
    "From this ndarray, determine all the elements that are divisible by 3. Save the result as div_by_3.npy \n"
   ]
  },
  {
   "cell_type": "code",
   "execution_count": null,
   "id": "c7b4825f-e471-47c8-945a-b1e00075500e",
   "metadata": {},
   "outputs": [],
   "source": [
    "# import the numpy library\n",
    "import numpy as np"
   ]
  },
  {
   "cell_type": "code",
   "execution_count": null,
   "id": "b92b2854-bb80-4701-9521-40c08c1155a5",
   "metadata": {},
   "outputs": [],
   "source": [
    "# store a range of integers from 1 to 100 into an array\n",
    "X = np.arange(1,101)\n",
    "X"
   ]
  },
  {
   "cell_type": "code",
   "execution_count": null,
   "id": "751e34b4-8506-46dc-9976-fd0d0c957dea",
   "metadata": {},
   "outputs": [],
   "source": [
    "# Element-wise operation that squares the objects inside the X array\n",
    "X = X**2\n",
    "X"
   ]
  },
  {
   "cell_type": "code",
   "execution_count": null,
   "id": "16a4b7b6-ee47-4f97-b8ce-5b64a2499d83",
   "metadata": {},
   "outputs": [],
   "source": [
    "# commands the X array to take the shape of a 10 by 10 - 2D array\n",
    "X = X.reshape(10,10)\n",
    "X\n"
   ]
  },
  {
   "cell_type": "code",
   "execution_count": null,
   "id": "defbce62-3904-4c64-b49b-6d843d537da5",
   "metadata": {},
   "outputs": [],
   "source": [
    "# This is an Indexing where it only stores objects that satisfy the condition / boolean statement\n",
    "div_3 = X[X%3 == 0]\n",
    "div_3"
   ]
  },
  {
   "cell_type": "code",
   "execution_count": null,
   "id": "6d0873bb-874d-410f-adfc-864f4958e6a4",
   "metadata": {},
   "outputs": [],
   "source": [
    "print(\"10x10 ndarray:\\n\\n\", X, end = \"\\n\\n\\n\")\n",
    "print(\"Elements divisible by 3:\\n\\n\", div_3)"
   ]
  },
  {
   "cell_type": "code",
   "execution_count": null,
   "id": "c393e806-9b48-431a-89f8-eb14fedd321a",
   "metadata": {},
   "outputs": [],
   "source": [
    "#saves the array that contains elements divisible by 3 to \"div_by_3.npy\"\n",
    "np.save( \"div_by_3.npy\", div_3 )"
   ]
  },
  {
   "cell_type": "code",
   "execution_count": null,
   "id": "9d45bc47-22ba-44bd-b6a3-c0ff22aa679d",
   "metadata": {},
   "outputs": [],
   "source": [
    "#checks if the saved arrray is saved and loadable\n",
    "div3 = np.load(\"div_by_3.npy\")\n",
    "div3"
   ]
  }
 ],
 "metadata": {
  "kernelspec": {
   "display_name": "Python 3 (ipykernel)",
   "language": "python",
   "name": "python3"
  },
  "language_info": {
   "codemirror_mode": {
    "name": "ipython",
    "version": 3
   },
   "file_extension": ".py",
   "mimetype": "text/x-python",
   "name": "python",
   "nbconvert_exporter": "python",
   "pygments_lexer": "ipython3",
   "version": "3.12.4"
  }
 },
 "nbformat": 4,
 "nbformat_minor": 5
}
